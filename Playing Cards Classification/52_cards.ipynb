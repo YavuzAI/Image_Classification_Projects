{
 "cells": [
  {
   "cell_type": "code",
   "execution_count": 1,
   "id": "4b02ab39-0692-41ff-b258-ed1e596e9515",
   "metadata": {},
   "outputs": [
    {
     "name": "stdout",
     "output_type": "stream",
     "text": [
      "Found 6121 images belonging to 53 classes.\n",
      "Found 1503 images belonging to 53 classes.\n"
     ]
    }
   ],
   "source": [
    "import os\n",
    "from tensorflow.keras.preprocessing.image import ImageDataGenerator\n",
    "\n",
    "data_dir = 'train/'\n",
    "img_width, img_height = 64, 64 \n",
    "\n",
    "# Function to filter out .DS_Store files\n",
    "def list_valid_filenames(directory):\n",
    "    return [file for file in os.listdir(directory) if not file.startswith('.')]\n",
    "\n",
    "train_datagen = ImageDataGenerator(rescale=1/255, validation_split=0.20)\n",
    "\n",
    "train_datagenerator = train_datagen.flow_from_directory(\n",
    "    directory=data_dir,\n",
    "    target_size=(img_width, img_height),\n",
    "    class_mode='categorical',\n",
    "    subset='training',\n",
    "    shuffle=True,\n",
    "    classes=list_valid_filenames(data_dir),\n",
    ")\n",
    "\n",
    "test_datagenerator = train_datagen.flow_from_directory(\n",
    "    directory=data_dir,\n",
    "    target_size=(img_width, img_height),\n",
    "    class_mode='categorical',\n",
    "    subset='validation',\n",
    "    shuffle=True,\n",
    "    classes=list_valid_filenames(data_dir),\n",
    ")"
   ]
  },
  {
   "cell_type": "code",
   "execution_count": 2,
   "id": "6dfb7cfe-082a-47e6-83b0-8d7db38027f9",
   "metadata": {},
   "outputs": [
    {
     "name": "stdout",
     "output_type": "stream",
     "text": [
      "Sample data shape: (32, 64, 64, 3)\n",
      "Sample labels shape: (32, 53)\n"
     ]
    }
   ],
   "source": [
    "sample_data, sample_labels = next(iter(train_datagenerator))\n",
    "print(f\"Sample data shape: {sample_data.shape}\")\n",
    "print(f\"Sample labels shape: {sample_labels.shape}\")"
   ]
  },
  {
   "cell_type": "code",
   "execution_count": 3,
   "id": "4f783e00-ad57-4e79-8a07-ff6c1196bc69",
   "metadata": {
    "scrolled": true
   },
   "outputs": [
    {
     "data": {
      "text/plain": [
       "{'three of hearts': 0,\n",
       " 'six of spades': 1,\n",
       " 'ace of spades': 2,\n",
       " 'ten of diamonds': 3,\n",
       " 'nine of hearts': 4,\n",
       " 'queen of clubs': 5,\n",
       " 'seven of spades': 6,\n",
       " 'six of clubs': 7,\n",
       " 'eight of spades': 8,\n",
       " 'jack of clubs': 9,\n",
       " 'jack of diamonds': 10,\n",
       " 'three of diamonds': 11,\n",
       " 'ten of hearts': 12,\n",
       " 'five of diamonds': 13,\n",
       " 'nine of clubs': 14,\n",
       " 'five of hearts': 15,\n",
       " 'nine of diamonds': 16,\n",
       " 'queen of spades': 17,\n",
       " 'jack of spades': 18,\n",
       " 'queen of diamonds': 19,\n",
       " 'ace of clubs': 20,\n",
       " 'six of diamonds': 21,\n",
       " 'eight of diamonds': 22,\n",
       " 'two of spades': 23,\n",
       " 'king of hearts': 24,\n",
       " 'four of hearts': 25,\n",
       " 'four of clubs': 26,\n",
       " 'five of spades': 27,\n",
       " 'queen of hearts': 28,\n",
       " 'seven of clubs': 29,\n",
       " 'ten of spades': 30,\n",
       " 'three of clubs': 31,\n",
       " 'ten of clubs': 32,\n",
       " 'eight of clubs': 33,\n",
       " 'king of spades': 34,\n",
       " 'four of spades': 35,\n",
       " 'jack of hearts': 36,\n",
       " 'two of hearts': 37,\n",
       " 'six of hearts': 38,\n",
       " 'ace of hearts': 39,\n",
       " 'joker': 40,\n",
       " 'king of clubs': 41,\n",
       " 'seven of diamonds': 42,\n",
       " 'nine of spades': 43,\n",
       " 'two of diamonds': 44,\n",
       " 'three of spades': 45,\n",
       " 'eight of hearts': 46,\n",
       " 'seven of hearts': 47,\n",
       " 'ace of diamonds': 48,\n",
       " 'four of diamonds': 49,\n",
       " 'five of clubs': 50,\n",
       " 'king of diamonds': 51,\n",
       " 'two of clubs': 52}"
      ]
     },
     "execution_count": 3,
     "metadata": {},
     "output_type": "execute_result"
    }
   ],
   "source": [
    "train_datagenerator.class_indices"
   ]
  },
  {
   "cell_type": "code",
   "execution_count": 4,
   "id": "ac0a4dc4-a507-4d48-a4ce-bc00c2a654bc",
   "metadata": {},
   "outputs": [
    {
     "data": {
      "text/plain": [
       "dict_keys(['three of hearts', 'six of spades', 'ace of spades', 'ten of diamonds', 'nine of hearts', 'queen of clubs', 'seven of spades', 'six of clubs', 'eight of spades', 'jack of clubs', 'jack of diamonds', 'three of diamonds', 'ten of hearts', 'five of diamonds', 'nine of clubs', 'five of hearts', 'nine of diamonds', 'queen of spades', 'jack of spades', 'queen of diamonds', 'ace of clubs', 'six of diamonds', 'eight of diamonds', 'two of spades', 'king of hearts', 'four of hearts', 'four of clubs', 'five of spades', 'queen of hearts', 'seven of clubs', 'ten of spades', 'three of clubs', 'ten of clubs', 'eight of clubs', 'king of spades', 'four of spades', 'jack of hearts', 'two of hearts', 'six of hearts', 'ace of hearts', 'joker', 'king of clubs', 'seven of diamonds', 'nine of spades', 'two of diamonds', 'three of spades', 'eight of hearts', 'seven of hearts', 'ace of diamonds', 'four of diamonds', 'five of clubs', 'king of diamonds', 'two of clubs'])"
      ]
     },
     "execution_count": 4,
     "metadata": {},
     "output_type": "execute_result"
    }
   ],
   "source": [
    "train_datagenerator.class_indices.keys()"
   ]
  },
  {
   "cell_type": "code",
   "execution_count": 5,
   "id": "5b604fdf-e544-47e4-8619-df25e47587a8",
   "metadata": {
    "scrolled": true
   },
   "outputs": [
    {
     "data": {
      "text/plain": [
       "['__class__',\n",
       " '__delattr__',\n",
       " '__dict__',\n",
       " '__dir__',\n",
       " '__doc__',\n",
       " '__eq__',\n",
       " '__format__',\n",
       " '__ge__',\n",
       " '__getattribute__',\n",
       " '__getitem__',\n",
       " '__getstate__',\n",
       " '__gt__',\n",
       " '__hash__',\n",
       " '__init__',\n",
       " '__init_subclass__',\n",
       " '__iter__',\n",
       " '__le__',\n",
       " '__len__',\n",
       " '__lt__',\n",
       " '__module__',\n",
       " '__ne__',\n",
       " '__new__',\n",
       " '__next__',\n",
       " '__reduce__',\n",
       " '__reduce_ex__',\n",
       " '__repr__',\n",
       " '__setattr__',\n",
       " '__sizeof__',\n",
       " '__str__',\n",
       " '__subclasshook__',\n",
       " '__weakref__',\n",
       " '_api_export_path',\n",
       " '_api_export_symbol_id',\n",
       " '_filepaths',\n",
       " '_flow_index',\n",
       " '_get_batches_of_transformed_samples',\n",
       " '_set_index_array',\n",
       " '_warn_if_super_not_called',\n",
       " 'allowed_class_modes',\n",
       " 'batch_index',\n",
       " 'batch_size',\n",
       " 'class_indices',\n",
       " 'class_mode',\n",
       " 'classes',\n",
       " 'color_mode',\n",
       " 'data_format',\n",
       " 'directory',\n",
       " 'dtype',\n",
       " 'filenames',\n",
       " 'filepaths',\n",
       " 'image_data_generator',\n",
       " 'image_shape',\n",
       " 'index_array',\n",
       " 'index_generator',\n",
       " 'interpolation',\n",
       " 'keep_aspect_ratio',\n",
       " 'labels',\n",
       " 'lock',\n",
       " 'max_queue_size',\n",
       " 'n',\n",
       " 'num_classes',\n",
       " 'on_epoch_end',\n",
       " 'reset',\n",
       " 'sample_weight',\n",
       " 'samples',\n",
       " 'save_format',\n",
       " 'save_prefix',\n",
       " 'save_to_dir',\n",
       " 'seed',\n",
       " 'set_processing_attrs',\n",
       " 'shuffle',\n",
       " 'split',\n",
       " 'subset',\n",
       " 'target_size',\n",
       " 'total_batches_seen',\n",
       " 'use_multiprocessing',\n",
       " 'white_list_formats',\n",
       " 'workers']"
      ]
     },
     "execution_count": 5,
     "metadata": {},
     "output_type": "execute_result"
    }
   ],
   "source": [
    "dir(train_datagenerator)"
   ]
  },
  {
   "cell_type": "markdown",
   "id": "c46b90df-29d3-41c6-b541-f8c56ce3cde7",
   "metadata": {},
   "source": [
    "## we will follow an approach where we are going to train the model with train_dir and test the results afterwards with the test_dir.\n",
    "    !! we will split the training data since our test data is only 250 images where we need approximately 1500 images since we have 7500 images."
   ]
  },
  {
   "cell_type": "code",
   "execution_count": 6,
   "id": "eb32a4c4-f8ff-47ec-91bf-42f1e915a65d",
   "metadata": {},
   "outputs": [
    {
     "name": "stdout",
     "output_type": "stream",
     "text": [
      "Pixel value range: 0.0 to 1.0\n"
     ]
    },
    {
     "data": {
      "image/png": "[encoded data removed]",
      "text/plain": [
       "<Figure size 800x800 with 4 Axes>"
      ]
     },
     "metadata": {},
     "output_type": "display_data"
    }
   ],
   "source": [
    "import numpy as np\n",
    "import matplotlib.pyplot as plt\n",
    "\n",
    "batch_size = 4\n",
    "train_images, train_labels = next(train_datagenerator)\n",
    "\n",
    "print(\"Pixel value range:\", np.min(train_images), \"to\", np.max(train_images))\n",
    "\n",
    "fig, axs = plt.subplots(2, 2, figsize=(8, 8))\n",
    "for i, ax in enumerate(axs.flat):\n",
    "    ax.imshow(train_images[i])\n",
    "    ax.axis('off')\n",
    "    ax.set_title(f\"Label: {np.argmax(train_labels[i])}\")\n",
    "plt.show()"
   ]
  },
  {
   "cell_type": "code",
   "execution_count": 7,
   "id": "2799637e-a44b-42c4-b398-1ec2848f0a6a",
   "metadata": {},
   "outputs": [
    {
     "name": "stderr",
     "output_type": "stream",
     "text": [
      "/var/folders/_m/cs7m68pn1kb5q__z748kqz700000gn/T/ipykernel_83714/3877107277.py:9: UserWarning: `input_shape` is undefined or non-square, or `rows` is not in [96, 128, 160, 192, 224]. Weights for input shape (224, 224) will be loaded as the default.\n",
      "  base_model = tf.keras.applications.MobileNetV2(\n"
     ]
    },
    {
     "name": "stdout",
     "output_type": "stream",
     "text": [
      "Epoch 1/100\n"
     ]
    },
    {
     "name": "stderr",
     "output_type": "stream",
     "text": [
      "/opt/anaconda3/lib/python3.11/site-packages/keras/src/trainers/data_adapters/py_dataset_adapter.py:120: UserWarning: Your `PyDataset` class should call `super().__init__(**kwargs)` in its constructor. `**kwargs` can include `workers`, `use_multiprocessing`, `max_queue_size`. Do not pass these arguments to `fit()`, as they will be ignored.\n",
      "  self._warn_if_super_not_called()\n"
     ]
    },
    {
     "name": "stdout",
     "output_type": "stream",
     "text": [
      "\u001b[1m192/192\u001b[0m \u001b[32m━━━━━━━━━━━━━━━━━━━━\u001b[0m\u001b[37m\u001b[0m \u001b[1m31s\u001b[0m 119ms/step - accuracy: 0.0165 - loss: 5.1344 - val_accuracy: 0.0226 - val_loss: 4.1782\n",
      "Epoch 2/100\n",
      "\u001b[1m192/192\u001b[0m \u001b[32m━━━━━━━━━━━━━━━━━━━━\u001b[0m\u001b[37m\u001b[0m \u001b[1m23s\u001b[0m 119ms/step - accuracy: 0.0240 - loss: 4.8565 - val_accuracy: 0.0206 - val_loss: 4.2155\n",
      "Epoch 3/100\n",
      "\u001b[1m192/192\u001b[0m \u001b[32m━━━━━━━━━━━━━━━━━━━━\u001b[0m\u001b[37m\u001b[0m \u001b[1m21s\u001b[0m 110ms/step - accuracy: 0.0261 - loss: 4.7325 - val_accuracy: 0.0353 - val_loss: 4.0686\n",
      "Epoch 4/100\n",
      "\u001b[1m192/192\u001b[0m \u001b[32m━━━━━━━━━━━━━━━━━━━━\u001b[0m\u001b[37m\u001b[0m \u001b[1m22s\u001b[0m 112ms/step - accuracy: 0.0368 - loss: 4.5617 - val_accuracy: 0.0479 - val_loss: 4.0122\n",
      "Epoch 5/100\n",
      "\u001b[1m192/192\u001b[0m \u001b[32m━━━━━━━━━━━━━━━━━━━━\u001b[0m\u001b[37m\u001b[0m \u001b[1m21s\u001b[0m 111ms/step - accuracy: 0.0486 - loss: 4.2982 - val_accuracy: 0.0931 - val_loss: 3.7323\n",
      "Epoch 6/100\n",
      "\u001b[1m192/192\u001b[0m \u001b[32m━━━━━━━━━━━━━━━━━━━━\u001b[0m\u001b[37m\u001b[0m \u001b[1m21s\u001b[0m 110ms/step - accuracy: 0.0600 - loss: 4.1703 - val_accuracy: 0.1264 - val_loss: 3.4695\n",
      "Epoch 7/100\n",
      "\u001b[1m192/192\u001b[0m \u001b[32m━━━━━━━━━━━━━━━━━━━━\u001b[0m\u001b[37m\u001b[0m \u001b[1m21s\u001b[0m 111ms/step - accuracy: 0.0749 - loss: 3.9731 - val_accuracy: 0.1730 - val_loss: 3.2211\n",
      "Epoch 8/100\n",
      "\u001b[1m192/192\u001b[0m \u001b[32m━━━━━━━━━━━━━━━━━━━━\u001b[0m\u001b[37m\u001b[0m \u001b[1m21s\u001b[0m 109ms/step - accuracy: 0.0902 - loss: 3.8577 - val_accuracy: 0.1996 - val_loss: 3.0559\n",
      "Epoch 9/100\n",
      "\u001b[1m192/192\u001b[0m \u001b[32m━━━━━━━━━━━━━━━━━━━━\u001b[0m\u001b[37m\u001b[0m \u001b[1m21s\u001b[0m 111ms/step - accuracy: 0.1061 - loss: 3.6955 - val_accuracy: 0.2262 - val_loss: 2.9607\n",
      "Epoch 10/100\n",
      "\u001b[1m192/192\u001b[0m \u001b[32m━━━━━━━━━━━━━━━━━━━━\u001b[0m\u001b[37m\u001b[0m \u001b[1m22s\u001b[0m 112ms/step - accuracy: 0.1220 - loss: 3.5954 - val_accuracy: 0.2482 - val_loss: 2.7908\n",
      "Epoch 11/100\n",
      "\u001b[1m192/192\u001b[0m \u001b[32m━━━━━━━━━━━━━━━━━━━━\u001b[0m\u001b[37m\u001b[0m \u001b[1m22s\u001b[0m 113ms/step - accuracy: 0.1563 - loss: 3.4299 - val_accuracy: 0.2848 - val_loss: 2.5904\n",
      "Epoch 12/100\n",
      "\u001b[1m192/192\u001b[0m \u001b[32m━━━━━━━━━━━━━━━━━━━━\u001b[0m\u001b[37m\u001b[0m \u001b[1m22s\u001b[0m 112ms/step - accuracy: 0.1628 - loss: 3.2991 - val_accuracy: 0.3047 - val_loss: 2.4506\n",
      "Epoch 13/100\n",
      "\u001b[1m192/192\u001b[0m \u001b[32m━━━━━━━━━━━━━━━━━━━━\u001b[0m\u001b[37m\u001b[0m \u001b[1m23s\u001b[0m 117ms/step - accuracy: 0.1894 - loss: 3.1881 - val_accuracy: 0.3373 - val_loss: 2.2967\n",
      "Epoch 14/100\n",
      "\u001b[1m192/192\u001b[0m \u001b[32m━━━━━━━━━━━━━━━━━━━━\u001b[0m\u001b[37m\u001b[0m \u001b[1m22s\u001b[0m 112ms/step - accuracy: 0.2157 - loss: 3.0374 - val_accuracy: 0.3646 - val_loss: 2.2088\n",
      "Epoch 15/100\n",
      "\u001b[1m192/192\u001b[0m \u001b[32m━━━━━━━━━━━━━━━━━━━━\u001b[0m\u001b[37m\u001b[0m \u001b[1m24s\u001b[0m 125ms/step - accuracy: 0.2183 - loss: 3.0069 - val_accuracy: 0.3985 - val_loss: 2.0971\n",
      "Epoch 16/100\n",
      "\u001b[1m192/192\u001b[0m \u001b[32m━━━━━━━━━━━━━━━━━━━━\u001b[0m\u001b[37m\u001b[0m \u001b[1m22s\u001b[0m 112ms/step - accuracy: 0.2359 - loss: 2.8917 - val_accuracy: 0.4032 - val_loss: 2.0666\n",
      "Epoch 17/100\n",
      "\u001b[1m192/192\u001b[0m \u001b[32m━━━━━━━━━━━━━━━━━━━━\u001b[0m\u001b[37m\u001b[0m \u001b[1m22s\u001b[0m 112ms/step - accuracy: 0.2597 - loss: 2.8213 - val_accuracy: 0.4278 - val_loss: 2.0416\n",
      "Epoch 18/100\n",
      "\u001b[1m192/192\u001b[0m \u001b[32m━━━━━━━━━━━━━━━━━━━━\u001b[0m\u001b[37m\u001b[0m \u001b[1m22s\u001b[0m 113ms/step - accuracy: 0.2745 - loss: 2.7156 - val_accuracy: 0.4438 - val_loss: 1.9371\n",
      "Epoch 19/100\n",
      "\u001b[1m192/192\u001b[0m \u001b[32m━━━━━━━━━━━━━━━━━━━━\u001b[0m\u001b[37m\u001b[0m \u001b[1m22s\u001b[0m 112ms/step - accuracy: 0.2791 - loss: 2.6493 - val_accuracy: 0.4345 - val_loss: 1.9827\n",
      "Epoch 20/100\n",
      "\u001b[1m192/192\u001b[0m \u001b[32m━━━━━━━━━━━━━━━━━━━━\u001b[0m\u001b[37m\u001b[0m \u001b[1m33s\u001b[0m 170ms/step - accuracy: 0.3051 - loss: 2.6054 - val_accuracy: 0.4657 - val_loss: 1.9092\n",
      "Epoch 21/100\n",
      "\u001b[1m192/192\u001b[0m \u001b[32m━━━━━━━━━━━━━━━━━━━━\u001b[0m\u001b[37m\u001b[0m \u001b[1m29s\u001b[0m 151ms/step - accuracy: 0.3110 - loss: 2.5234 - val_accuracy: 0.4857 - val_loss: 1.8083\n",
      "Epoch 22/100\n",
      "\u001b[1m192/192\u001b[0m \u001b[32m━━━━━━━━━━━━━━━━━━━━\u001b[0m\u001b[37m\u001b[0m \u001b[1m25s\u001b[0m 128ms/step - accuracy: 0.3265 - loss: 2.4643 - val_accuracy: 0.4977 - val_loss: 1.7485\n",
      "Epoch 23/100\n",
      "\u001b[1m192/192\u001b[0m \u001b[32m━━━━━━━━━━━━━━━━━━━━\u001b[0m\u001b[37m\u001b[0m \u001b[1m24s\u001b[0m 124ms/step - accuracy: 0.3479 - loss: 2.3538 - val_accuracy: 0.5236 - val_loss: 1.6685\n",
      "Epoch 24/100\n",
      "\u001b[1m192/192\u001b[0m \u001b[32m━━━━━━━━━━━━━━━━━━━━\u001b[0m\u001b[37m\u001b[0m \u001b[1m25s\u001b[0m 127ms/step - accuracy: 0.3586 - loss: 2.2706 - val_accuracy: 0.5363 - val_loss: 1.6149\n",
      "Epoch 25/100\n",
      "\u001b[1m192/192\u001b[0m \u001b[32m━━━━━━━━━━━━━━━━━━━━\u001b[0m\u001b[37m\u001b[0m \u001b[1m24s\u001b[0m 122ms/step - accuracy: 0.3914 - loss: 2.1846 - val_accuracy: 0.5383 - val_loss: 1.5924\n",
      "Epoch 26/100\n",
      "\u001b[1m192/192\u001b[0m \u001b[32m━━━━━━━━━━━━━━━━━━━━\u001b[0m\u001b[37m\u001b[0m \u001b[1m24s\u001b[0m 123ms/step - accuracy: 0.4285 - loss: 2.0886 - val_accuracy: 0.5609 - val_loss: 1.5222\n",
      "Epoch 27/100\n",
      "\u001b[1m192/192\u001b[0m \u001b[32m━━━━━━━━━━━━━━━━━━━━\u001b[0m\u001b[37m\u001b[0m \u001b[1m24s\u001b[0m 124ms/step - accuracy: 0.4289 - loss: 2.0483 - val_accuracy: 0.5729 - val_loss: 1.5061\n",
      "Epoch 28/100\n",
      "\u001b[1m192/192\u001b[0m \u001b[32m━━━━━━━━━━━━━━━━━━━━\u001b[0m\u001b[37m\u001b[0m \u001b[1m28s\u001b[0m 146ms/step - accuracy: 0.4507 - loss: 1.9348 - val_accuracy: 0.5675 - val_loss: 1.4910\n",
      "Epoch 29/100\n",
      "\u001b[1m192/192\u001b[0m \u001b[32m━━━━━━━━━━━━━━━━━━━━\u001b[0m\u001b[37m\u001b[0m \u001b[1m24s\u001b[0m 126ms/step - accuracy: 0.4509 - loss: 1.9498 - val_accuracy: 0.5862 - val_loss: 1.4406\n",
      "Epoch 30/100\n",
      "\u001b[1m192/192\u001b[0m \u001b[32m━━━━━━━━━━━━━━━━━━━━\u001b[0m\u001b[37m\u001b[0m \u001b[1m23s\u001b[0m 121ms/step - accuracy: 0.4826 - loss: 1.8690 - val_accuracy: 0.6008 - val_loss: 1.4080\n",
      "Epoch 31/100\n",
      "\u001b[1m192/192\u001b[0m \u001b[32m━━━━━━━━━━━━━━━━━━━━\u001b[0m\u001b[37m\u001b[0m \u001b[1m23s\u001b[0m 118ms/step - accuracy: 0.4867 - loss: 1.8259 - val_accuracy: 0.6008 - val_loss: 1.3965\n",
      "Epoch 32/100\n",
      "\u001b[1m192/192\u001b[0m \u001b[32m━━━━━━━━━━━━━━━━━━━━\u001b[0m\u001b[37m\u001b[0m \u001b[1m23s\u001b[0m 119ms/step - accuracy: 0.5197 - loss: 1.6941 - val_accuracy: 0.6168 - val_loss: 1.3498\n",
      "Epoch 33/100\n",
      "\u001b[1m192/192\u001b[0m \u001b[32m━━━━━━━━━━━━━━━━━━━━\u001b[0m\u001b[37m\u001b[0m \u001b[1m23s\u001b[0m 121ms/step - accuracy: 0.5226 - loss: 1.6997 - val_accuracy: 0.6208 - val_loss: 1.3375\n",
      "Epoch 34/100\n",
      "\u001b[1m192/192\u001b[0m \u001b[32m━━━━━━━━━━━━━━━━━━━━\u001b[0m\u001b[37m\u001b[0m \u001b[1m23s\u001b[0m 119ms/step - accuracy: 0.5504 - loss: 1.6121 - val_accuracy: 0.5855 - val_loss: 1.4536\n",
      "Epoch 35/100\n",
      "\u001b[1m192/192\u001b[0m \u001b[32m━━━━━━━━━━━━━━━━━━━━\u001b[0m\u001b[37m\u001b[0m \u001b[1m23s\u001b[0m 118ms/step - accuracy: 0.5291 - loss: 1.6614 - val_accuracy: 0.6161 - val_loss: 1.3575\n",
      "Epoch 36/100\n",
      "\u001b[1m192/192\u001b[0m \u001b[32m━━━━━━━━━━━━━━━━━━━━\u001b[0m\u001b[37m\u001b[0m \u001b[1m23s\u001b[0m 119ms/step - accuracy: 0.5483 - loss: 1.5794 - val_accuracy: 0.6454 - val_loss: 1.2884\n",
      "Epoch 37/100\n",
      "\u001b[1m192/192\u001b[0m \u001b[32m━━━━━━━━━━━━━━━━━━━━\u001b[0m\u001b[37m\u001b[0m \u001b[1m23s\u001b[0m 118ms/step - accuracy: 0.5843 - loss: 1.5264 - val_accuracy: 0.6547 - val_loss: 1.2571\n",
      "Epoch 38/100\n",
      "\u001b[1m192/192\u001b[0m \u001b[32m━━━━━━━━━━━━━━━━━━━━\u001b[0m\u001b[37m\u001b[0m \u001b[1m23s\u001b[0m 121ms/step - accuracy: 0.5858 - loss: 1.4586 - val_accuracy: 0.6720 - val_loss: 1.2258\n",
      "Epoch 39/100\n",
      "\u001b[1m192/192\u001b[0m \u001b[32m━━━━━━━━━━━━━━━━━━━━\u001b[0m\u001b[37m\u001b[0m \u001b[1m23s\u001b[0m 118ms/step - accuracy: 0.6150 - loss: 1.3818 - val_accuracy: 0.6727 - val_loss: 1.2127\n",
      "Epoch 40/100\n",
      "\u001b[1m192/192\u001b[0m \u001b[32m━━━━━━━━━━━━━━━━━━━━\u001b[0m\u001b[37m\u001b[0m \u001b[1m26s\u001b[0m 134ms/step - accuracy: 0.6303 - loss: 1.3199 - val_accuracy: 0.6773 - val_loss: 1.1865\n",
      "Epoch 41/100\n",
      "\u001b[1m192/192\u001b[0m \u001b[32m━━━━━━━━━━━━━━━━━━━━\u001b[0m\u001b[37m\u001b[0m \u001b[1m30s\u001b[0m 154ms/step - accuracy: 0.6279 - loss: 1.2979 - val_accuracy: 0.6820 - val_loss: 1.1728\n",
      "Epoch 42/100\n",
      "\u001b[1m192/192\u001b[0m \u001b[32m━━━━━━━━━━━━━━━━━━━━\u001b[0m\u001b[37m\u001b[0m \u001b[1m24s\u001b[0m 123ms/step - accuracy: 0.6632 - loss: 1.2284 - val_accuracy: 0.6780 - val_loss: 1.1695\n",
      "Epoch 43/100\n",
      "\u001b[1m192/192\u001b[0m \u001b[32m━━━━━━━━━━━━━━━━━━━━\u001b[0m\u001b[37m\u001b[0m \u001b[1m23s\u001b[0m 121ms/step - accuracy: 0.6722 - loss: 1.1913 - val_accuracy: 0.6926 - val_loss: 1.1392\n",
      "Epoch 44/100\n",
      "\u001b[1m192/192\u001b[0m \u001b[32m━━━━━━━━━━━━━━━━━━━━\u001b[0m\u001b[37m\u001b[0m \u001b[1m24s\u001b[0m 122ms/step - accuracy: 0.6904 - loss: 1.1281 - val_accuracy: 0.6953 - val_loss: 1.1415\n",
      "Epoch 45/100\n",
      "\u001b[1m192/192\u001b[0m \u001b[32m━━━━━━━━━━━━━━━━━━━━\u001b[0m\u001b[37m\u001b[0m \u001b[1m23s\u001b[0m 121ms/step - accuracy: 0.7046 - loss: 1.0771 - val_accuracy: 0.6959 - val_loss: 1.1278\n",
      "Epoch 46/100\n",
      "\u001b[1m192/192\u001b[0m \u001b[32m━━━━━━━━━━━━━━━━━━━━\u001b[0m\u001b[37m\u001b[0m \u001b[1m23s\u001b[0m 118ms/step - accuracy: 0.7177 - loss: 1.0485 - val_accuracy: 0.7026 - val_loss: 1.1127\n",
      "Epoch 47/100\n",
      "\u001b[1m192/192\u001b[0m \u001b[32m━━━━━━━━━━━━━━━━━━━━\u001b[0m\u001b[37m\u001b[0m \u001b[1m24s\u001b[0m 125ms/step - accuracy: 0.7311 - loss: 0.9792 - val_accuracy: 0.6966 - val_loss: 1.1078\n",
      "Epoch 48/100\n",
      "\u001b[1m192/192\u001b[0m \u001b[32m━━━━━━━━━━━━━━━━━━━━\u001b[0m\u001b[37m\u001b[0m \u001b[1m25s\u001b[0m 130ms/step - accuracy: 0.7319 - loss: 0.9758 - val_accuracy: 0.7079 - val_loss: 1.1226\n",
      "Epoch 49/100\n",
      "\u001b[1m192/192\u001b[0m \u001b[32m━━━━━━━━━━━━━━━━━━━━\u001b[0m\u001b[37m\u001b[0m \u001b[1m24s\u001b[0m 123ms/step - accuracy: 0.7430 - loss: 0.9397 - val_accuracy: 0.7112 - val_loss: 1.1184\n",
      "Epoch 50/100\n",
      "\u001b[1m192/192\u001b[0m \u001b[32m━━━━━━━━━━━━━━━━━━━━\u001b[0m\u001b[37m\u001b[0m \u001b[1m23s\u001b[0m 121ms/step - accuracy: 0.7589 - loss: 0.8873 - val_accuracy: 0.7252 - val_loss: 1.1025\n",
      "Epoch 51/100\n",
      "\u001b[1m192/192\u001b[0m \u001b[32m━━━━━━━━━━━━━━━━━━━━\u001b[0m\u001b[37m\u001b[0m \u001b[1m24s\u001b[0m 122ms/step - accuracy: 0.7738 - loss: 0.8269 - val_accuracy: 0.7272 - val_loss: 1.1199\n",
      "Epoch 52/100\n",
      "\u001b[1m192/192\u001b[0m \u001b[32m━━━━━━━━━━━━━━━━━━━━\u001b[0m\u001b[37m\u001b[0m \u001b[1m23s\u001b[0m 120ms/step - accuracy: 0.7915 - loss: 0.7848 - val_accuracy: 0.7166 - val_loss: 1.1074\n",
      "Epoch 53/100\n",
      "\u001b[1m192/192\u001b[0m \u001b[32m━━━━━━━━━━━━━━━━━━━━\u001b[0m\u001b[37m\u001b[0m \u001b[1m23s\u001b[0m 119ms/step - accuracy: 0.7895 - loss: 0.7891 - val_accuracy: 0.7272 - val_loss: 1.0828\n",
      "Epoch 54/100\n",
      "\u001b[1m192/192\u001b[0m \u001b[32m━━━━━━━━━━━━━━━━━━━━\u001b[0m\u001b[37m\u001b[0m \u001b[1m23s\u001b[0m 119ms/step - accuracy: 0.8197 - loss: 0.7283 - val_accuracy: 0.7226 - val_loss: 1.0972\n",
      "Epoch 55/100\n",
      "\u001b[1m192/192\u001b[0m \u001b[32m━━━━━━━━━━━━━━━━━━━━\u001b[0m\u001b[37m\u001b[0m \u001b[1m23s\u001b[0m 119ms/step - accuracy: 0.8028 - loss: 0.7439 - val_accuracy: 0.7232 - val_loss: 1.1063\n",
      "Epoch 56/100\n",
      "\u001b[1m192/192\u001b[0m \u001b[32m━━━━━━━━━━━━━━━━━━━━\u001b[0m\u001b[37m\u001b[0m \u001b[1m23s\u001b[0m 118ms/step - accuracy: 0.8184 - loss: 0.6959 - val_accuracy: 0.7272 - val_loss: 1.0955\n",
      "Epoch 57/100\n",
      "\u001b[1m192/192\u001b[0m \u001b[32m━━━━━━━━━━━━━━━━━━━━\u001b[0m\u001b[37m\u001b[0m \u001b[1m23s\u001b[0m 118ms/step - accuracy: 0.8309 - loss: 0.6620 - val_accuracy: 0.7259 - val_loss: 1.1107\n",
      "Epoch 58/100\n",
      "\u001b[1m192/192\u001b[0m \u001b[32m━━━━━━━━━━━━━━━━━━━━\u001b[0m\u001b[37m\u001b[0m \u001b[1m24s\u001b[0m 124ms/step - accuracy: 0.8306 - loss: 0.6347 - val_accuracy: 0.7365 - val_loss: 1.0842\n",
      "Epoch 59/100\n",
      "\u001b[1m192/192\u001b[0m \u001b[32m━━━━━━━━━━━━━━━━━━━━\u001b[0m\u001b[37m\u001b[0m \u001b[1m25s\u001b[0m 128ms/step - accuracy: 0.8510 - loss: 0.6118 - val_accuracy: 0.7432 - val_loss: 1.0597\n",
      "Epoch 60/100\n",
      "\u001b[1m192/192\u001b[0m \u001b[32m━━━━━━━━━━━━━━━━━━━━\u001b[0m\u001b[37m\u001b[0m \u001b[1m23s\u001b[0m 121ms/step - accuracy: 0.8720 - loss: 0.5564 - val_accuracy: 0.7452 - val_loss: 1.0813\n",
      "Epoch 61/100\n",
      "\u001b[1m192/192\u001b[0m \u001b[32m━━━━━━━━━━━━━━━━━━━━\u001b[0m\u001b[37m\u001b[0m \u001b[1m24s\u001b[0m 124ms/step - accuracy: 0.8639 - loss: 0.5423 - val_accuracy: 0.7359 - val_loss: 1.1171\n",
      "Epoch 62/100\n",
      "\u001b[1m192/192\u001b[0m \u001b[32m━━━━━━━━━━━━━━━━━━━━\u001b[0m\u001b[37m\u001b[0m \u001b[1m27s\u001b[0m 139ms/step - accuracy: 0.8746 - loss: 0.5311 - val_accuracy: 0.7418 - val_loss: 1.1083\n",
      "Epoch 63/100\n",
      "\u001b[1m192/192\u001b[0m \u001b[32m━━━━━━━━━━━━━━━━━━━━\u001b[0m\u001b[37m\u001b[0m \u001b[1m25s\u001b[0m 128ms/step - accuracy: 0.8734 - loss: 0.5132 - val_accuracy: 0.7452 - val_loss: 1.1292\n",
      "Epoch 64/100\n",
      "\u001b[1m192/192\u001b[0m \u001b[32m━━━━━━━━━━━━━━━━━━━━\u001b[0m\u001b[37m\u001b[0m \u001b[1m24s\u001b[0m 123ms/step - accuracy: 0.8913 - loss: 0.4772 - val_accuracy: 0.7345 - val_loss: 1.1522\n",
      "Epoch 65/100\n",
      "\u001b[1m192/192\u001b[0m \u001b[32m━━━━━━━━━━━━━━━━━━━━\u001b[0m\u001b[37m\u001b[0m \u001b[1m25s\u001b[0m 127ms/step - accuracy: 0.9048 - loss: 0.4252 - val_accuracy: 0.7452 - val_loss: 1.1080\n",
      "Epoch 66/100\n",
      "\u001b[1m192/192\u001b[0m \u001b[32m━━━━━━━━━━━━━━━━━━━━\u001b[0m\u001b[37m\u001b[0m \u001b[1m24s\u001b[0m 126ms/step - accuracy: 0.8920 - loss: 0.4616 - val_accuracy: 0.7405 - val_loss: 1.1403\n",
      "Epoch 67/100\n",
      "\u001b[1m192/192\u001b[0m \u001b[32m━━━━━━━━━━━━━━━━━━━━\u001b[0m\u001b[37m\u001b[0m \u001b[1m25s\u001b[0m 127ms/step - accuracy: 0.9003 - loss: 0.4406 - val_accuracy: 0.7445 - val_loss: 1.1090\n",
      "Epoch 68/100\n",
      "\u001b[1m192/192\u001b[0m \u001b[32m━━━━━━━━━━━━━━━━━━━━\u001b[0m\u001b[37m\u001b[0m \u001b[1m25s\u001b[0m 130ms/step - accuracy: 0.9107 - loss: 0.3994 - val_accuracy: 0.7518 - val_loss: 1.1074\n",
      "Epoch 69/100\n",
      "\u001b[1m192/192\u001b[0m \u001b[32m━━━━━━━━━━━━━━━━━━━━\u001b[0m\u001b[37m\u001b[0m \u001b[1m24s\u001b[0m 125ms/step - accuracy: 0.9091 - loss: 0.3918 - val_accuracy: 0.7478 - val_loss: 1.0914\n",
      "Epoch 70/100\n",
      "\u001b[1m192/192\u001b[0m \u001b[32m━━━━━━━━━━━━━━━━━━━━\u001b[0m\u001b[37m\u001b[0m \u001b[1m25s\u001b[0m 127ms/step - accuracy: 0.9061 - loss: 0.4018 - val_accuracy: 0.7485 - val_loss: 1.1065\n",
      "Epoch 71/100\n",
      "\u001b[1m192/192\u001b[0m \u001b[32m━━━━━━━━━━━━━━━━━━━━\u001b[0m\u001b[37m\u001b[0m \u001b[1m25s\u001b[0m 127ms/step - accuracy: 0.9134 - loss: 0.3780 - val_accuracy: 0.7518 - val_loss: 1.1150\n",
      "Epoch 72/100\n",
      "\u001b[1m192/192\u001b[0m \u001b[32m━━━━━━━━━━━━━━━━━━━━\u001b[0m\u001b[37m\u001b[0m \u001b[1m25s\u001b[0m 130ms/step - accuracy: 0.9192 - loss: 0.3633 - val_accuracy: 0.7545 - val_loss: 1.1331\n",
      "Epoch 73/100\n",
      "\u001b[1m192/192\u001b[0m \u001b[32m━━━━━━━━━━━━━━━━━━━━\u001b[0m\u001b[37m\u001b[0m \u001b[1m24s\u001b[0m 122ms/step - accuracy: 0.9274 - loss: 0.3291 - val_accuracy: 0.7452 - val_loss: 1.1529\n",
      "Epoch 74/100\n",
      "\u001b[1m192/192\u001b[0m \u001b[32m━━━━━━━━━━━━━━━━━━━━\u001b[0m\u001b[37m\u001b[0m \u001b[1m23s\u001b[0m 121ms/step - accuracy: 0.9250 - loss: 0.3292 - val_accuracy: 0.7399 - val_loss: 1.1481\n",
      "Epoch 75/100\n",
      "\u001b[1m192/192\u001b[0m \u001b[32m━━━━━━━━━━━━━━━━━━━━\u001b[0m\u001b[37m\u001b[0m \u001b[1m24s\u001b[0m 126ms/step - accuracy: 0.9204 - loss: 0.3292 - val_accuracy: 0.7445 - val_loss: 1.1825\n",
      "Epoch 76/100\n",
      "\u001b[1m192/192\u001b[0m \u001b[32m━━━━━━━━━━━━━━━━━━━━\u001b[0m\u001b[37m\u001b[0m \u001b[1m24s\u001b[0m 124ms/step - accuracy: 0.9351 - loss: 0.3044 - val_accuracy: 0.7572 - val_loss: 1.1447\n",
      "Epoch 77/100\n",
      "\u001b[1m192/192\u001b[0m \u001b[32m━━━━━━━━━━━━━━━━━━━━\u001b[0m\u001b[37m\u001b[0m \u001b[1m25s\u001b[0m 131ms/step - accuracy: 0.9425 - loss: 0.2906 - val_accuracy: 0.7611 - val_loss: 1.1618\n",
      "Epoch 78/100\n",
      "\u001b[1m192/192\u001b[0m \u001b[32m━━━━━━━━━━━━━━━━━━━━\u001b[0m\u001b[37m\u001b[0m \u001b[1m24s\u001b[0m 124ms/step - accuracy: 0.9289 - loss: 0.3088 - val_accuracy: 0.7598 - val_loss: 1.1414\n",
      "Epoch 79/100\n",
      "\u001b[1m192/192\u001b[0m \u001b[32m━━━━━━━━━━━━━━━━━━━━\u001b[0m\u001b[37m\u001b[0m \u001b[1m24s\u001b[0m 123ms/step - accuracy: 0.9375 - loss: 0.2800 - val_accuracy: 0.7432 - val_loss: 1.2210\n",
      "Epoch 80/100\n",
      "\u001b[1m192/192\u001b[0m \u001b[32m━━━━━━━━━━━━━━━━━━━━\u001b[0m\u001b[37m\u001b[0m \u001b[1m24s\u001b[0m 122ms/step - accuracy: 0.9370 - loss: 0.2751 - val_accuracy: 0.7545 - val_loss: 1.1799\n",
      "Epoch 81/100\n",
      "\u001b[1m192/192\u001b[0m \u001b[32m━━━━━━━━━━━━━━━━━━━━\u001b[0m\u001b[37m\u001b[0m \u001b[1m25s\u001b[0m 128ms/step - accuracy: 0.9463 - loss: 0.2546 - val_accuracy: 0.7545 - val_loss: 1.2288\n",
      "Epoch 82/100\n",
      "\u001b[1m192/192\u001b[0m \u001b[32m━━━━━━━━━━━━━━━━━━━━\u001b[0m\u001b[37m\u001b[0m \u001b[1m24s\u001b[0m 121ms/step - accuracy: 0.9464 - loss: 0.2581 - val_accuracy: 0.7645 - val_loss: 1.1856\n",
      "Epoch 83/100\n",
      "\u001b[1m192/192\u001b[0m \u001b[32m━━━━━━━━━━━━━━━━━━━━\u001b[0m\u001b[37m\u001b[0m \u001b[1m23s\u001b[0m 121ms/step - accuracy: 0.9515 - loss: 0.2286 - val_accuracy: 0.7572 - val_loss: 1.2217\n",
      "Epoch 84/100\n",
      "\u001b[1m192/192\u001b[0m \u001b[32m━━━━━━━━━━━━━━━━━━━━\u001b[0m\u001b[37m\u001b[0m \u001b[1m24s\u001b[0m 122ms/step - accuracy: 0.9507 - loss: 0.2471 - val_accuracy: 0.7458 - val_loss: 1.2335\n",
      "Epoch 85/100\n",
      "\u001b[1m192/192\u001b[0m \u001b[32m━━━━━━━━━━━━━━━━━━━━\u001b[0m\u001b[37m\u001b[0m \u001b[1m24s\u001b[0m 123ms/step - accuracy: 0.9513 - loss: 0.2492 - val_accuracy: 0.7552 - val_loss: 1.1955\n",
      "Epoch 86/100\n",
      "\u001b[1m192/192\u001b[0m \u001b[32m━━━━━━━━━━━━━━━━━━━━\u001b[0m\u001b[37m\u001b[0m \u001b[1m24s\u001b[0m 123ms/step - accuracy: 0.9460 - loss: 0.2382 - val_accuracy: 0.7505 - val_loss: 1.2008\n",
      "Epoch 87/100\n",
      "\u001b[1m192/192\u001b[0m \u001b[32m━━━━━━━━━━━━━━━━━━━━\u001b[0m\u001b[37m\u001b[0m \u001b[1m24s\u001b[0m 125ms/step - accuracy: 0.9416 - loss: 0.2679 - val_accuracy: 0.7625 - val_loss: 1.1533\n",
      "Epoch 88/100\n",
      "\u001b[1m192/192\u001b[0m \u001b[32m━━━━━━━━━━━━━━━━━━━━\u001b[0m\u001b[37m\u001b[0m \u001b[1m24s\u001b[0m 123ms/step - accuracy: 0.9437 - loss: 0.2422 - val_accuracy: 0.7478 - val_loss: 1.2400\n",
      "Epoch 89/100\n",
      "\u001b[1m192/192\u001b[0m \u001b[32m━━━━━━━━━━━━━━━━━━━━\u001b[0m\u001b[37m\u001b[0m \u001b[1m24s\u001b[0m 122ms/step - accuracy: 0.9518 - loss: 0.2173 - val_accuracy: 0.7618 - val_loss: 1.1826\n",
      "Epoch 90/100\n",
      "\u001b[1m192/192\u001b[0m \u001b[32m━━━━━━━━━━━━━━━━━━━━\u001b[0m\u001b[37m\u001b[0m \u001b[1m24s\u001b[0m 123ms/step - accuracy: 0.9602 - loss: 0.2005 - val_accuracy: 0.7691 - val_loss: 1.1706\n",
      "Epoch 91/100\n",
      "\u001b[1m192/192\u001b[0m \u001b[32m━━━━━━━━━━━━━━━━━━━━\u001b[0m\u001b[37m\u001b[0m \u001b[1m24s\u001b[0m 123ms/step - accuracy: 0.9613 - loss: 0.1939 - val_accuracy: 0.7778 - val_loss: 1.1349\n",
      "Epoch 92/100\n",
      "\u001b[1m192/192\u001b[0m \u001b[32m━━━━━━━━━━━━━━━━━━━━\u001b[0m\u001b[37m\u001b[0m \u001b[1m26s\u001b[0m 133ms/step - accuracy: 0.9574 - loss: 0.1939 - val_accuracy: 0.7478 - val_loss: 1.2145\n",
      "Epoch 93/100\n",
      "\u001b[1m192/192\u001b[0m \u001b[32m━━━━━━━━━━━━━━━━━━━━\u001b[0m\u001b[37m\u001b[0m \u001b[1m25s\u001b[0m 129ms/step - accuracy: 0.9597 - loss: 0.2057 - val_accuracy: 0.7552 - val_loss: 1.2212\n",
      "Epoch 94/100\n",
      "\u001b[1m192/192\u001b[0m \u001b[32m━━━━━━━━━━━━━━━━━━━━\u001b[0m\u001b[37m\u001b[0m \u001b[1m26s\u001b[0m 137ms/step - accuracy: 0.9562 - loss: 0.2143 - val_accuracy: 0.7638 - val_loss: 1.1715\n",
      "Epoch 95/100\n",
      "\u001b[1m192/192\u001b[0m \u001b[32m━━━━━━━━━━━━━━━━━━━━\u001b[0m\u001b[37m\u001b[0m \u001b[1m24s\u001b[0m 123ms/step - accuracy: 0.9612 - loss: 0.1980 - val_accuracy: 0.7565 - val_loss: 1.2046\n",
      "Epoch 96/100\n",
      "\u001b[1m192/192\u001b[0m \u001b[32m━━━━━━━━━━━━━━━━━━━━\u001b[0m\u001b[37m\u001b[0m \u001b[1m24s\u001b[0m 124ms/step - accuracy: 0.9651 - loss: 0.1747 - val_accuracy: 0.7618 - val_loss: 1.1837\n",
      "Epoch 97/100\n",
      "\u001b[1m192/192\u001b[0m \u001b[32m━━━━━━━━━━━━━━━━━━━━\u001b[0m\u001b[37m\u001b[0m \u001b[1m24s\u001b[0m 122ms/step - accuracy: 0.9623 - loss: 0.1879 - val_accuracy: 0.7452 - val_loss: 1.2919\n",
      "Epoch 98/100\n",
      "\u001b[1m192/192\u001b[0m \u001b[32m━━━━━━━━━━━━━━━━━━━━\u001b[0m\u001b[37m\u001b[0m \u001b[1m24s\u001b[0m 124ms/step - accuracy: 0.9631 - loss: 0.1826 - val_accuracy: 0.7578 - val_loss: 1.2124\n",
      "Epoch 99/100\n",
      "\u001b[1m192/192\u001b[0m \u001b[32m━━━━━━━━━━━━━━━━━━━━\u001b[0m\u001b[37m\u001b[0m \u001b[1m25s\u001b[0m 129ms/step - accuracy: 0.9681 - loss: 0.1787 - val_accuracy: 0.7585 - val_loss: 1.2671\n",
      "Epoch 100/100\n",
      "\u001b[1m192/192\u001b[0m \u001b[32m━━━━━━━━━━━━━━━━━━━━\u001b[0m\u001b[37m\u001b[0m \u001b[1m24s\u001b[0m 124ms/step - accuracy: 0.9610 - loss: 0.1862 - val_accuracy: 0.7638 - val_loss: 1.2265\n"
     ]
    }
   ],
   "source": [
    "from tensorflow.keras.applications import MobileNetV2\n",
    "from tensorflow.keras.layers import Dense, Dropout, BatchNormalization\n",
    "from tensorflow.keras.models import Model\n",
    "from tensorflow.keras.optimizers import Adam\n",
    "from tensorflow.keras.regularizers import l2\n",
    "import tensorflow as tf\n",
    "\n",
    "base_model = tf.keras.applications.MobileNetV2(\n",
    "    input_shape=(img_width, img_height, 3),\n",
    "    include_top=False,\n",
    "    weights='imagenet',\n",
    "    pooling='avg'\n",
    ")\n",
    "\n",
    "for layer in base_model.layers[-25:]:\n",
    "    layer.trainable = True\n",
    "\n",
    "inputs = base_model.input\n",
    "\n",
    "\n",
    "x = Dense(64, activation='relu', kernel_regularizer=l2(0.00009))(base_model.output)  \n",
    "x = BatchNormalization()(x)\n",
    "x = Dropout(0.3)(x)  \n",
    "\n",
    "x = Dense(256, activation='relu', kernel_regularizer=l2(0.00009))(x) \n",
    "x = BatchNormalization()(x)\n",
    "x = Dropout(0.3)(x)  \n",
    "\n",
    "x = Dense(128, activation='relu', kernel_regularizer=l2(0.00009))(x)  \n",
    "x = BatchNormalization()(x)\n",
    "x = Dropout(0.4)(x)  \n",
    "\n",
    "outputs = Dense(53, activation='softmax')(x)\n",
    "\n",
    "model = Model(inputs=inputs, outputs=outputs)\n",
    "\n",
    "optimizer = Adam(learning_rate=0.00006)  \n",
    "model.compile(optimizer=optimizer, loss='categorical_crossentropy', metrics=['accuracy'])\n",
    "\n",
    "from tensorflow.keras.callbacks import EarlyStopping, TensorBoard\n",
    "\n",
    "early_stopping = EarlyStopping(monitor='val_loss', patience=10, restore_best_weights=True)\n",
    "tensor_board = TensorBoard(log_dir='logs')\n",
    "\n",
    "history = model.fit(train_datagenerator, \n",
    "                    validation_data=test_datagenerator, \n",
    "                    epochs=100, \n",
    "                    batch_size=16, \n",
    "                    callbacks=[tensor_board])\n"
   ]
  },
  {
   "cell_type": "markdown",
   "id": "865d3fd1-d016-4705-a70a-9c0e231ceef6",
   "metadata": {},
   "source": [
    "Increase L2: When overfitting is observed.\n",
    "Decrease L2: When underfitting is observed.\n",
    "Monitor performance after each adjustment to find the best balance for your specific dataset."
   ]
  },
  {
   "cell_type": "markdown",
   "id": "d627010e-70d0-4663-811d-7db070ed21d9",
   "metadata": {},
   "source": [
    "Increase Learning Rate: When training is slow and loss decreases very little.\n",
    "Decrease Learning Rate: When loss fluctuates or plateaus, indicating possible overshooting.\n",
    "Adjust gradually and monitor performance to find the optimal learning rate for your specific dataset."
   ]
  },
  {
   "cell_type": "code",
   "execution_count": 8,
   "id": "70eea79d-2bfe-42fd-b101-4f57d185db08",
   "metadata": {},
   "outputs": [
    {
     "name": "stdout",
     "output_type": "stream",
     "text": [
      "47/47 - 1s - 26ms/step - accuracy: 0.7638 - loss: 1.2265\n",
      "Test Loss: 1.226507306098938\n",
      "Test Accuracy: 0.7638057470321655\n"
     ]
    }
   ],
   "source": [
    "test_loss, test_acc = model.evaluate(test_datagenerator, verbose=2)\n",
    "print(\"Test Loss:\", test_loss)\n",
    "print(\"Test Accuracy:\", test_acc)"
   ]
  },
  {
   "cell_type": "code",
   "execution_count": 11,
   "id": "a725eb40-0533-431a-93b7-e3192566eff1",
   "metadata": {},
   "outputs": [
    {
     "name": "stderr",
     "output_type": "stream",
     "text": [
      "WARNING:absl:You are saving your model as an HDF5 file via `model.save()` or `keras.saving.save_model(model)`. This file format is considered legacy. We recommend using instead the native Keras format, e.g. `model.save('my_model.keras')` or `keras.saving.save_model(model, 'my_model.keras')`. \n"
     ]
    }
   ],
   "source": [
    "from tensorflow.keras.models import save_model\n",
    "save_model(model, '52_cards_detector.h5')"
   ]
  },
  {
   "cell_type": "raw",
   "id": "addb8bc0-5bf3-485e-a678-059755875eb8",
   "metadata": {},
   "source": [
    "from tensorflow.keras.utils import plot_model\n",
    "\n",
    "plot_model(model, to_file='model_architecture.png', show_shapes=True, show_layer_names=True)"
   ]
  },
  {
   "cell_type": "code",
   "execution_count": null,
   "id": "c3627051-96a0-44ed-8326-0d496c3a4e6f",
   "metadata": {},
   "outputs": [],
   "source": []
  },
  {
   "cell_type": "code",
   "execution_count": null,
   "id": "97813f6a-46d8-4e83-ac98-80e461326b97",
   "metadata": {},
   "outputs": [],
   "source": []
  },
  {
   "cell_type": "code",
   "execution_count": null,
   "id": "1589e5dc-a3a8-4c29-9443-c7f71bf7527e",
   "metadata": {},
   "outputs": [],
   "source": []
  },
  {
   "cell_type": "code",
   "execution_count": null,
   "id": "beb16283-39ef-4845-8924-da8c959cf200",
   "metadata": {},
   "outputs": [],
   "source": []
  },
  {
   "cell_type": "code",
   "execution_count": null,
   "id": "66da1105-73a4-4325-9ae6-fa513967e723",
   "metadata": {},
   "outputs": [],
   "source": []
  }
 ],
 "metadata": {
  "kernelspec": {
   "display_name": "Python 3 (ipykernel)",
   "language": "python",
   "name": "python3"
  },
  "language_info": {
   "codemirror_mode": {
    "name": "ipython",
    "version": 3
   },
   "file_extension": ".py",
   "mimetype": "text/x-python",
   "name": "python",
   "nbconvert_exporter": "python",
   "pygments_lexer": "ipython3",
   "version": "3.11.8"
  }
 },
 "nbformat": 4,
 "nbformat_minor": 5
}
